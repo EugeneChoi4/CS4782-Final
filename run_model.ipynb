{
 "cells": [
  {
   "cell_type": "code",
   "execution_count": null,
   "id": "ee7b8335",
   "metadata": {},
   "outputs": [],
   "source": [
    "import torch\n",
    "import torch.nn as nn\n",
    "import torch.optim as optim\n",
    "from torch.utils.data import DataLoader\n",
    "import torch.nn.functional as F\n",
    "from torch.autograd import Variable\n",
    "\n",
    "import random\n",
    "import os\n",
    "import numpy as np\n",
    "import pandas as pd\n",
    "import math\n",
    "import sys\n",
    "from collections import Counter\n",
    "from itertools import chain\n",
    "from typing import List\n",
    "import textwrap\n",
    "\n",
    "import matplotlib.pyplot as plt\n",
    "import seaborn as sns\n",
    "from tqdm.auto import tqdm\n",
    "\n",
    "from google.colab import drive\n",
    "\n",
    "random.seed(0)\n",
    "torch.manual_seed(0)"
   ]
  },
  {
   "cell_type": "code",
   "execution_count": null,
   "id": "343f8cdb",
   "metadata": {},
   "outputs": [],
   "source": [
    "drive.mount('/content/gdrive')\n",
    "\n",
    "base_dir = \"/content/gdrive/MyDrive/CS-5782-Projects/CS4782-Final\"\n",
    "sys.path.append(base_dir)"
   ]
  },
  {
   "cell_type": "code",
   "execution_count": null,
   "id": "acf7834f",
   "metadata": {},
   "outputs": [],
   "source": [
    "%load_ext autoreload\n",
    "%aimport submission\n",
    "%autoreload 1\n",
    "\n",
    "device = torch.device(\"cuda\" if torch.cuda.is_available() else \"cpu\")\n",
    "print(F\"Device set to {device}\")"
   ]
  },
  {
   "cell_type": "code",
   "execution_count": null,
   "id": "b4e42507",
   "metadata": {},
   "outputs": [],
   "source": [
    "from PatchTST import PatchTST\n",
    "from utils import train, val\n",
    "\n",
    "criterion = nn.MSELoss()\n",
    "model = PatchTST(...) #TODO: fill in the model parameters\n",
    "optimizer = optim.Adam(model.parameters(), lr=1e-3, betas=(0.9, 0.98), eps=1e-9)\n",
    "\n",
    "train_loss_arr, val_loss_arr = train(\n",
    "    model, train_loader, val_loader,\n",
    "    criterion, epochs=10,\n",
    "    optimizer=optimizer, device=device\n",
    ")"
   ]
  }
 ],
 "metadata": {
  "kernelspec": {
   "display_name": "base",
   "language": "python",
   "name": "python3"
  },
  "language_info": {
   "name": "python",
   "version": "3.10.13"
  }
 },
 "nbformat": 4,
 "nbformat_minor": 5
}
